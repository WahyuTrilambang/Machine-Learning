{
 "cells": [
  {
   "cell_type": "markdown",
   "id": "f73ecad2",
   "metadata": {},
   "source": [
    "\n",
    "# Website Rekomendasi Musik 🎵\n",
    "\n",
    "**Nama:** Wahyu Trilambang  \n",
    "**NIM:** A11.2023.15380  \n"
   ]
  },
  {
   "cell_type": "markdown",
   "id": "c5488d41",
   "metadata": {},
   "source": [
    "\n",
    "## 1. Ringkasan dan Permasalahan Project\n",
    "\n",
    "Rekomendasi musik adalah fitur penting dalam layanan streaming untuk meningkatkan pengalaman pengguna. Dalam project ini, dibangun sebuah sistem rekomendasi musik berdasarkan kemiripan fitur antar lagu.\n",
    "\n",
    "### Tujuan Project\n",
    "- Membangun sistem rekomendasi musik berbasis kemiripan fitur menggunakan cosine similarity.\n",
    "- Menyediakan antarmuka interaktif untuk pengguna melalui aplikasi web berbasis Streamlit.\n",
    "\n",
    "### Alur Penyelesaian Project\n",
    "```mermaid\n",
    "graph TD\n",
    "    A[Dataset Lagu Spotify] --> B[Preprocessing dan Ekstraksi Fitur]\n",
    "    B --> C[Perhitungan Kemiripan Lagu (Cosine Similarity)]\n",
    "    C --> D[Menyimpan Model dan Dataset (Pickle)]\n",
    "    D --> E[Implementasi Web App dengan Streamlit]\n",
    "    E --> F[User Menginput Lagu dan Menerima Rekomendasi]\n",
    "```\n"
   ]
  },
  {
   "cell_type": "markdown",
   "id": "3b0c4a51",
   "metadata": {},
   "source": [
    "\n",
    "## 2. Dataset, Eksplorasi, dan Ekstraksi Fitur\n",
    "\n",
    "Dataset berisi data lagu Spotify, seperti:\n",
    "- **Kolom kategorikal**: `song`, `artist`\n",
    "- **Kolom numerik**: `acousticness`, `danceability`, `energy`, `valence`, `tempo`, dll.\n",
    "\n",
    "Contoh EDA dan eksplorasi data:\n"
   ]
  },
  {
   "cell_type": "code",
   "execution_count": null,
   "id": "a10424a7",
   "metadata": {},
   "outputs": [],
   "source": [
    "\n",
    "import pandas as pd\n",
    "\n",
    "# Load dataset\n",
    "df = pd.read_pickle(\"df.pkl\")\n",
    "df.head()\n"
   ]
  },
  {
   "cell_type": "code",
   "execution_count": null,
   "id": "97a312c5",
   "metadata": {},
   "outputs": [],
   "source": [
    "\n",
    "# Informasi dataset\n",
    "df.info()\n"
   ]
  },
  {
   "cell_type": "code",
   "execution_count": null,
   "id": "93685be7",
   "metadata": {},
   "outputs": [],
   "source": [
    "\n",
    "# Statistik deskriptif untuk fitur numerik\n",
    "df.describe()\n"
   ]
  },
  {
   "cell_type": "code",
   "execution_count": null,
   "id": "18542682",
   "metadata": {},
   "outputs": [],
   "source": [
    "\n",
    "# Cek nilai null\n",
    "df.isnull().sum()\n"
   ]
  },
  {
   "cell_type": "markdown",
   "id": "c010640c",
   "metadata": {},
   "source": [
    "\n",
    "## 3. Feature Engineering dan Modeling\n",
    "\n",
    "Kita hanya menggunakan fitur numerik untuk membangun vektor representasi tiap lagu. Kemudian, kemiripan dihitung menggunakan **Cosine Similarity**.\n"
   ]
  },
  {
   "cell_type": "code",
   "execution_count": null,
   "id": "96a9eee8",
   "metadata": {},
   "outputs": [],
   "source": [
    "\n",
    "from sklearn.metrics.pairwise import cosine_similarity\n",
    "import pickle\n",
    "\n",
    "# Ambil fitur numerik\n",
    "feature_cols = df.select_dtypes(include='number').columns\n",
    "features = df[feature_cols]\n",
    "\n",
    "# Hitung similarity matrix\n",
    "similarity = cosine_similarity(features)\n",
    "\n",
    "# Simpan dataset dan similarity matrix\n",
    "pickle.dump(df, open(\"df.pkl\", \"wb\"))\n",
    "pickle.dump(similarity, open(\"similarity.pkl\", \"wb\"))\n"
   ]
  },
  {
   "cell_type": "markdown",
   "id": "39ed8260",
   "metadata": {},
   "source": [
    "\n",
    "## 4. Fungsi Rekomendasi Lagu\n",
    "\n",
    "Berikut adalah fungsi Python untuk memberikan rekomendasi lagu berdasarkan nama lagu yang dipilih pengguna.\n"
   ]
  },
  {
   "cell_type": "code",
   "execution_count": null,
   "id": "35daffd9",
   "metadata": {},
   "outputs": [],
   "source": [
    "\n",
    "def recommend(song_name, df, similarity_matrix):\n",
    "    index = df[df['song'] == song_name].index[0]\n",
    "    distances = sorted(list(enumerate(similarity_matrix[index])), reverse=True, key=lambda x: x[1])\n",
    "    recommendations = []\n",
    "    for i in distances[1:6]:\n",
    "        recommendations.append(df.iloc[i[0]][['song', 'artist']].to_dict())\n",
    "    return recommendations\n",
    "\n",
    "# Contoh pemanggilan\n",
    "recommend(\"Bad Guy\", df, similarity)\n"
   ]
  },
  {
   "cell_type": "markdown",
   "id": "58fc15ed",
   "metadata": {},
   "source": [
    "\n",
    "## 5. Implementasi Web App (Streamlit)\n",
    "\n",
    "Aplikasi dibangun menggunakan Streamlit dan Spotify API untuk menampilkan cover album lagu. File `app.py` memuat semua logika antarmuka pengguna dan pemanggilan model.\n",
    "\n",
    "### Cuplikan kode utama:\n",
    "```python\n",
    "music = pickle.load(open('df.pkl','rb'))\n",
    "similarity = pickle.load(open('similarity.pkl','rb'))\n",
    "\n",
    "selected_song = st.selectbox(\"Select a song\", music['song'].values)\n",
    "if st.button(\"Show Recommendation\"):\n",
    "    recommended_music_names, recommended_music_posters = recommend(selected_song)\n",
    "    ...\n",
    "```\n",
    "\n",
    "Aplikasi memungkinkan pengguna memilih lagu dan mendapatkan 5 lagu rekomendasi yang mirip.\n"
   ]
  },
  {
   "cell_type": "markdown",
   "id": "8149da38",
   "metadata": {},
   "source": [
    "\n",
    "## 6. Evaluasi dan Performa\n",
    "\n",
    "Karena ini adalah sistem rekomendasi tanpa label, maka evaluasi dilakukan secara **kualitatif** berdasarkan relevansi hasil rekomendasi.\n",
    "\n",
    "- Rekomendasi sesuai genre/mood\n",
    "- User experience diuji dengan demo interaktif\n"
   ]
  },
  {
   "cell_type": "markdown",
   "id": "cc56a2f6",
   "metadata": {},
   "source": [
    "\n",
    "## 7. Diskusi dan Kesimpulan\n",
    "\n",
    "### Hasil\n",
    "- Sistem memberikan hasil rekomendasi yang sesuai dan relevan.\n",
    "- UI menarik dan interaktif.\n",
    "- Rekomendasi berbasis content-based filtering dengan cosine similarity.\n",
    "\n",
    "### Kesimpulan\n",
    "Project ini membuktikan bahwa dengan data fitur lagu dan pendekatan sederhana cosine similarity, kita bisa membangun sistem rekomendasi musik yang cukup efektif dan mudah digunakan.\n",
    "\n",
    "🎯 Cocok digunakan sebagai fitur tambahan dalam layanan streaming musik modern.\n"
   ]
  }
 ],
 "metadata": {
  "kernelspec": {
   "display_name": "Python 3 (ipykernel)",
   "language": "python",
   "name": "python3"
  },
  "language_info": {
   "codemirror_mode": {
    "name": "ipython",
    "version": 3
   },
   "file_extension": ".py",
   "mimetype": "text/x-python",
   "name": "python",
   "nbconvert_exporter": "python",
   "pygments_lexer": "ipython3",
   "version": "3.13.5"
  }
 },
 "nbformat": 4,
 "nbformat_minor": 5
}
